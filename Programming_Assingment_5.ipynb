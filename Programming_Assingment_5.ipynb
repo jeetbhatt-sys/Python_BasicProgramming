{
 "cells": [
  {
   "cell_type": "markdown",
   "metadata": {},
   "source": [
    "1.Write a Python Program to Find LCM?"
   ]
  },
  {
   "cell_type": "code",
   "execution_count": 10,
   "metadata": {},
   "outputs": [
    {
     "name": "stdout",
     "output_type": "stream",
     "text": [
      "Please Enters the numbers for which you want to find out the LCM :1 3 4 6 8 23\n",
      "552\n"
     ]
    }
   ],
   "source": [
    "def LCM(a , b):\n",
    "    div = 0\n",
    "    dem = 0\n",
    "    if a > b:\n",
    "        div = a\n",
    "        dem = b\n",
    "    elif a < b:\n",
    "        div = b \n",
    "        dem = a\n",
    "    rem = int(div) % int(dem)\n",
    "    while(rem != 0):\n",
    "        div = dem\n",
    "        dem = rem\n",
    "        rem = div % dem\n",
    "    gcd = dem\n",
    "    lcm = int(int(a * b)/int(gcd))\n",
    "    return lcm\n",
    "    \n",
    "lst = list(input(\"Please Enters the numbers for which you want to find out the LCM :\").split())\n",
    "x = lst[0]\n",
    "y = lst[1]\n",
    "l = LCM(int(x),int(y))\n",
    "\n",
    "for i in range(2,len(lst)):\n",
    "    lcm = LCM(int(l),int(lst[i]))\n",
    "    l = lcm\n",
    "print(lcm)\n"
   ]
  },
  {
   "cell_type": "markdown",
   "metadata": {},
   "source": [
    "2.Write a Python Program to Find HCF?"
   ]
  },
  {
   "cell_type": "code",
   "execution_count": 6,
   "metadata": {},
   "outputs": [
    {
     "name": "stdout",
     "output_type": "stream",
     "text": [
      "Please enter two numbers i.e space separted : 100 200\n",
      "The HCF is 100\n"
     ]
    }
   ],
   "source": [
    "def HCF(x, y):\n",
    "    while(y):\n",
    "        x, y = y, x % y\n",
    "    return x\n",
    "\n",
    "num1 , num2 = input(\"Please enter two numbers i.e space separted : \").split()\n",
    "hcf = HCF(int(num1), int(num2))\n",
    "print(\"The HCF is\", hcf)"
   ]
  },
  {
   "cell_type": "markdown",
   "metadata": {},
   "source": [
    "3.Write a Python Program to Convert Decimal to Binary, Octal and Hexadecimal?"
   ]
  },
  {
   "cell_type": "code",
   "execution_count": 18,
   "metadata": {},
   "outputs": [
    {
     "name": "stdout",
     "output_type": "stream",
     "text": [
      "Please Enter a decimal Number : 100\n",
      "The decimal value of 100 is: \n",
      "In binary :  0b1100100\n",
      "In octal :  0o144\n",
      "In hexadecimal :  0x64\n"
     ]
    }
   ],
   "source": [
    "decimal = int(input(\"Please Enter a decimal Number : \"))\n",
    "print(\"The decimal value of\", decimal, \"is: \")\n",
    "print(\"In binary : \", bin(decimal))\n",
    "print(\"In octal : \",oct(decimal))\n",
    "print(\"In hexadecimal : \",hex(decimal))"
   ]
  },
  {
   "cell_type": "markdown",
   "metadata": {},
   "source": [
    "4.Write a Python Program To Find ASCII value of a character?"
   ]
  },
  {
   "cell_type": "code",
   "execution_count": 22,
   "metadata": {},
   "outputs": [
    {
     "name": "stdout",
     "output_type": "stream",
     "text": [
      "Please Enter a character : i\n",
      "ASCII of i is 105\n"
     ]
    }
   ],
   "source": [
    "ch = input(\"Please Enter a character : \")\n",
    "print(\"ASCII of {} is {}\".format(ch,ord(ch)))"
   ]
  },
  {
   "cell_type": "markdown",
   "metadata": {},
   "source": [
    "5.Write a Python Program to Make a Simple Calculator with 4 basic mathematical operations?"
   ]
  },
  {
   "cell_type": "code",
   "execution_count": 4,
   "metadata": {},
   "outputs": [
    {
     "name": "stdout",
     "output_type": "stream",
     "text": [
      "1.Please Enter 1 for addition.\n",
      "2.Please Enter 2 for subtraction.\n",
      "3.Please Enter 3 for Multiplication.\n",
      "4.Please Enter 4 for Divison.\n",
      "5.Please Enter 5 for Exit.\n",
      "1\n",
      "Please enter two numbers i.e space separted : 2 3\n",
      "Addition of Given Input :  5.0\n",
      "1.Please Enter 1 for addition.\n",
      "2.Please Enter 2 for subtraction.\n",
      "3.Please Enter 3 for Multiplication.\n",
      "4.Please Enter 4 for Divison.\n",
      "5.Please Enter 5 for Exit.\n",
      "5\n"
     ]
    }
   ],
   "source": [
    "def Calculator(num1, num2 , op):\n",
    "    if op == 1:\n",
    "        print(\"Addition of Given Input : \", num1 + num2)\n",
    "    elif op == 2:\n",
    "        print(\"subtraction of Given Input : \", num1 - num2)\n",
    "    elif op == 3:\n",
    "        print(\"Multiplication of Given Input : \", num1 * num2)\n",
    "    else:\n",
    "        print(\"Divison of Given Input : \", num1 / num2)\n",
    "\n",
    "\n",
    "while True:\n",
    "    print(\"1.Please Enter 1 for addition.\")\n",
    "    print(\"2.Please Enter 2 for subtraction.\")\n",
    "    print(\"3.Please Enter 3 for Multiplication.\")\n",
    "    print(\"4.Please Enter 4 for Divison.\")\n",
    "    print(\"5.Please Enter 5 for Exit.\")\n",
    "    op = input()\n",
    "    if int(op) in range(1,5):\n",
    "        num1 , num2 = input(\"Please enter two numbers i.e space separted : \").split()\n",
    "        Calculator(float(num1), float(num2),int(op))\n",
    "    elif int(op) == 5:\n",
    "        break\n",
    "    else:\n",
    "        print(\"Wrong Input! Try Again!\")"
   ]
  },
  {
   "cell_type": "code",
   "execution_count": null,
   "metadata": {},
   "outputs": [],
   "source": []
  },
  {
   "cell_type": "code",
   "execution_count": null,
   "metadata": {},
   "outputs": [],
   "source": []
  }
 ],
 "metadata": {
  "kernelspec": {
   "display_name": "Python 3",
   "language": "python",
   "name": "python3"
  }
 },
 "nbformat": 4,
 "nbformat_minor": 4
}
