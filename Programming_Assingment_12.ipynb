{
 "cells": [
  {
   "cell_type": "markdown",
   "metadata": {},
   "source": [
    "1.Write a Python program to Extract Unique values dictionary values?"
   ]
  },
  {
   "cell_type": "code",
   "execution_count": 7,
   "metadata": {},
   "outputs": [
    {
     "name": "stdout",
     "output_type": "stream",
     "text": [
      "Unique Values in dictionary : \n",
      "a\n",
      "b\n",
      "c\n",
      "d\n"
     ]
    }
   ],
   "source": [
    "dict1 = {1:'a',2:'b',3:'a',4:'c',5:'d',6:'b'}\n",
    "lst = []\n",
    "print(\"Unique Values in dictionary : \")\n",
    "\n",
    "for k,v in dict1.items():\n",
    "    if v not in lst:\n",
    "        lst.append(v)\n",
    "        print(v)\n",
    "    \n"
   ]
  },
  {
   "cell_type": "markdown",
   "metadata": {},
   "source": [
    "2.Write a Python program to find the sum of all items in a dictionary?"
   ]
  },
  {
   "cell_type": "code",
   "execution_count": 10,
   "metadata": {},
   "outputs": [
    {
     "name": "stdout",
     "output_type": "stream",
     "text": [
      "Sum of all items in a dictinary :  140\n"
     ]
    }
   ],
   "source": [
    "dict1 = {'a': 10, 'b':20, 'c':30, 'd':80}\n",
    "s = 0\n",
    "for k,v in dict1.items():\n",
    "    s += int(v)\n",
    "print(\"Sum of all items in a dictinary : \",s)"
   ]
  },
  {
   "cell_type": "markdown",
   "metadata": {},
   "source": [
    "3.Write a Python program to Merging two Dictionaries?"
   ]
  },
  {
   "cell_type": "code",
   "execution_count": 14,
   "metadata": {},
   "outputs": [
    {
     "name": "stdout",
     "output_type": "stream",
     "text": [
      "Dictionaries after Merge :  {1: 'a', 2: 'b', 3: 'a', 4: 'c', 5: 'd', 6: 'b', 'a': 10, 'b': 20, 'c': 30, 'd': 80}\n"
     ]
    }
   ],
   "source": [
    "dict1 = {1:'a',2:'b',3:'a',4:'c',5:'d',6:'b'}\n",
    "dict2 = {'a': 10, 'b':20, 'c':30, 'd':80}\n",
    "dict1.update(dict2)\n",
    "print(\"Dictionaries after Merge : \",dict1)\n"
   ]
  },
  {
   "cell_type": "markdown",
   "metadata": {},
   "source": [
    "4.Write a Python program to convert key-values list to flat dictionary?"
   ]
  },
  {
   "cell_type": "code",
   "execution_count": 17,
   "metadata": {},
   "outputs": [
    {
     "name": "stdout",
     "output_type": "stream",
     "text": [
      "Flat dictionary :  {'ML': 3, 'AI': 4, 'DS': 6}\n"
     ]
    }
   ],
   "source": [
    "dict3 = {'subject':['ML','AI','DS'],'duration':[3,4,6]}\n",
    "\n",
    "flatDict = dict(zip(dict3['subject'],dict3['duration']))\n",
    "print(\"Flat dictionary : \",flatDict)\n"
   ]
  },
  {
   "cell_type": "markdown",
   "metadata": {},
   "source": [
    "5.Write a Python program to insertion at the beginning in OrderedDict?"
   ]
  },
  {
   "cell_type": "code",
   "execution_count": 22,
   "metadata": {},
   "outputs": [
    {
     "name": "stdout",
     "output_type": "stream",
     "text": [
      "Dictionary Before Insertion :  OrderedDict([(1, 'a'), (2, 'c'), (4, 'd'), (3, 'b')])\n",
      "Dictionary After Insertion :  OrderedDict([(8, 'f'), (1, 'a'), (2, 'c'), (4, 'd'), (3, 'b')])\n"
     ]
    }
   ],
   "source": [
    "from collections import OrderedDict\n",
    "dict1 = OrderedDict()\n",
    "dict1[1] ='a'\n",
    "dict1[2] = 'c'\n",
    "dict1[4] = 'd'\n",
    "dict1[3] ='b'\n",
    "print(\"Dictionary Before Insertion : \",dict1)\n",
    "dict1.update({8:'f'})\n",
    "dict1.move_to_end(8, last = False)\n",
    "print(\"Dictionary After Insertion : \",dict1)\n"
   ]
  },
  {
   "cell_type": "markdown",
   "metadata": {},
   "source": [
    "6.Write a Python program to check order of character in string using OrderedDict()?"
   ]
  },
  {
   "cell_type": "code",
   "execution_count": 30,
   "metadata": {},
   "outputs": [
    {
     "name": "stdout",
     "output_type": "stream",
     "text": [
      "The Input string is :  Hello Jeet\n",
      "The input pattern is:  He\n",
      "The order of pattern is correct\n"
     ]
    }
   ],
   "source": [
    "from collections import OrderedDict\n",
    "def checkOrder(input_Str, input_pattern):\n",
    "    dict1 = OrderedDict.fromkeys(input_Str)\n",
    "    patternLength = 0\n",
    "    for k,v in dict1.items():\n",
    "        if k == input_pattern[patternLength]:\n",
    "            patternLength += 1 \n",
    "\n",
    "        if patternLength == (len(input_pattern)):\n",
    "            return 'The order of pattern is correct'\n",
    "\n",
    "    return 'The order of pattern is incorrect'\n",
    "\n",
    "input_Str = 'Hello Jeet'\n",
    "input_pattern = 'He'\n",
    "print(\"The Input string is : \", input_Str)\n",
    "print(\"The input pattern is: \", input_pattern)\n",
    "print(checkOrder(input_Str,input_pattern))"
   ]
  },
  {
   "cell_type": "markdown",
   "metadata": {},
   "source": [
    "7.Write a Python program to sort Python Dictionaries by Key or Value?"
   ]
  },
  {
   "cell_type": "code",
   "execution_count": 33,
   "metadata": {},
   "outputs": [
    {
     "name": "stdout",
     "output_type": "stream",
     "text": [
      "Dictionary Before Sorting :  {1: 'a', 2: 'b', 3: 'a', 5: 'c', 8: 'd', 6: 'b'}\n",
      "Dictionary After Sorting :  {1: 'a', 2: 'b', 3: 'a', 5: 'c', 6: 'b', 8: 'd'}\n"
     ]
    }
   ],
   "source": [
    "dict1 = {1:'a',2:'b',3:'a',5:'c',8:'d',6:'b'}\n",
    "print(\"Dictionary Before Sorting : \", dict1)\n",
    "dict2 = {}\n",
    "for i in sorted (dict1.keys()) :\n",
    "     dict2[i] = dict1[i]\n",
    "print(\"Dictionary After Sorting : \", dict2)\n"
   ]
  },
  {
   "cell_type": "code",
   "execution_count": null,
   "metadata": {},
   "outputs": [],
   "source": []
  }
 ],
 "metadata": {
  "kernelspec": {
   "display_name": "Python 3",
   "language": "python",
   "name": "python3"
  },
  "language_info": {
   "codemirror_mode": {
    "name": "ipython",
    "version": 3
   },
   "file_extension": ".py",
   "mimetype": "text/x-python",
   "name": "python",
   "nbconvert_exporter": "python",
   "pygments_lexer": "ipython3",
   "version": "3.8.3"
  }
 },
 "nbformat": 4,
 "nbformat_minor": 4
}
