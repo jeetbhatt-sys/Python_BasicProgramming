{
 "cells": [
  {
   "cell_type": "markdown",
   "metadata": {},
   "source": [
    "1.Write a Python program to check if the given number is a Disarium Number?"
   ]
  },
  {
   "cell_type": "code",
   "execution_count": 8,
   "metadata": {},
   "outputs": [
    {
     "name": "stdout",
     "output_type": "stream",
     "text": [
      "Please Enter a number: 89\n",
      "Entered Number is Disarium :  True\n"
     ]
    }
   ],
   "source": [
    "def Disarium(num):\n",
    "    f = 0\n",
    "    for i in range(0, len(num)):\n",
    "        f += int(num[i])**(i+1)\n",
    "    if int(num) == f:\n",
    "        return True\n",
    "    else:\n",
    "        return False\n",
    "\n",
    "num = input(\"Please Enter a number: \")\n",
    "print(\"Entered Number is Disarium : \", Disarium(num))\n"
   ]
  },
  {
   "cell_type": "markdown",
   "metadata": {},
   "source": [
    "2.Write a Python program to print all disarium numbers between 1 to 100?"
   ]
  },
  {
   "cell_type": "code",
   "execution_count": 11,
   "metadata": {},
   "outputs": [
    {
     "name": "stdout",
     "output_type": "stream",
     "text": [
      "Disarium Number in range 1 to 100 : \n",
      "1\n",
      "2\n",
      "3\n",
      "4\n",
      "5\n",
      "6\n",
      "7\n",
      "8\n",
      "9\n",
      "89\n"
     ]
    }
   ],
   "source": [
    "print(\"Disarium Number in range 1 to 100 : \")\n",
    "for i in range(1,101):\n",
    "    if Disarium(str(i)):\n",
    "        print(i)\n"
   ]
  },
  {
   "cell_type": "markdown",
   "metadata": {},
   "source": [
    "3.Write a Python program to check if the given number is Happy Number?"
   ]
  },
  {
   "cell_type": "code",
   "execution_count": 22,
   "metadata": {},
   "outputs": [
    {
     "name": "stdout",
     "output_type": "stream",
     "text": [
      "Please Enter a number: 100\n",
      "Entered Number is Happy Number :  True\n"
     ]
    }
   ],
   "source": [
    "def HappyNum(num):\n",
    "    while len(str(num)) != 1:\n",
    "        sum = 0\n",
    "        for i in range(0,len(num)):\n",
    "            sum += int(num[i])**2\n",
    "        num = str(sum)\n",
    "    if int(num) == 1:\n",
    "        return True\n",
    "    else:\n",
    "        return False\n",
    "\n",
    "num = input(\"Please Enter a number: \")\n",
    "print(\"Entered Number is Happy Number : \", HappyNum(num))"
   ]
  },
  {
   "cell_type": "markdown",
   "metadata": {},
   "source": [
    "4.Write a Python program to print all happy numbers between 1 and 100?"
   ]
  },
  {
   "cell_type": "code",
   "execution_count": 23,
   "metadata": {},
   "outputs": [
    {
     "name": "stdout",
     "output_type": "stream",
     "text": [
      "Happy Number in range 1 to 100 : \n",
      "1\n",
      "10\n",
      "13\n",
      "19\n",
      "23\n",
      "28\n",
      "31\n",
      "32\n",
      "44\n",
      "49\n",
      "68\n",
      "70\n",
      "79\n",
      "82\n",
      "86\n",
      "91\n",
      "94\n",
      "97\n",
      "100\n"
     ]
    }
   ],
   "source": [
    "print(\"Happy Number in range 1 to 100 : \")\n",
    "for i in range(1,101):\n",
    "    if HappyNum(str(i)):\n",
    "        print(i)\n"
   ]
  },
  {
   "cell_type": "markdown",
   "metadata": {},
   "source": [
    "5.Write a Python program to determine whether the given number is a Harshad Number?"
   ]
  },
  {
   "cell_type": "code",
   "execution_count": 27,
   "metadata": {},
   "outputs": [
    {
     "name": "stdout",
     "output_type": "stream",
     "text": [
      "Please Enter a number: 48\n",
      "Entered Number is Harshad Number :  True\n"
     ]
    }
   ],
   "source": [
    "def HarshadNum(num):\n",
    "    sum = 0\n",
    "    for i in num:\n",
    "        sum += int(i)\n",
    "    if int(num) % sum == 0:\n",
    "        return True\n",
    "    else:\n",
    "        return False\n",
    "    \n",
    "num = input(\"Please Enter a number: \")\n",
    "print(\"Entered Number is Harshad Number : \", HarshadNum(num))"
   ]
  },
  {
   "cell_type": "markdown",
   "metadata": {},
   "source": [
    "6.Write a Python program to print all pronic numbers between 1 and 100?"
   ]
  },
  {
   "cell_type": "code",
   "execution_count": 29,
   "metadata": {},
   "outputs": [
    {
     "name": "stdout",
     "output_type": "stream",
     "text": [
      "Pronic numbers between 1 and 100 : \n",
      "2\n",
      "6\n",
      "12\n",
      "20\n",
      "30\n",
      "42\n",
      "56\n",
      "72\n",
      "90\n"
     ]
    }
   ],
   "source": [
    "print(\"Pronic numbers between 1 and 100 : \")\n",
    "for i in range(1,101):\n",
    "    res = 0\n",
    "    num = i*(i+1)\n",
    "    if num in range(1,100):\n",
    "        print(num)"
   ]
  },
  {
   "cell_type": "code",
   "execution_count": null,
   "metadata": {},
   "outputs": [],
   "source": []
  }
 ],
 "metadata": {
  "kernelspec": {
   "display_name": "Python 3",
   "language": "python",
   "name": "python3"
  },
  "language_info": {
   "codemirror_mode": {
    "name": "ipython",
    "version": 3
   },
   "file_extension": ".py",
   "mimetype": "text/x-python",
   "name": "python",
   "nbconvert_exporter": "python",
   "pygments_lexer": "ipython3",
   "version": "3.8.3"
  }
 },
 "nbformat": 4,
 "nbformat_minor": 4
}
