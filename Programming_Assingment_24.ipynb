{
 "cells": [
  {
   "cell_type": "raw",
   "metadata": {},
   "source": [
    "Question1\n",
    "Create a function that takes an integer and returns a list from 1 to the given number, where:\n",
    "1.\tIf the number can be divided evenly by 4, amplify it by 10 (i.e. return 10 times the number).\n",
    "2.\tIf the number cannot be divided evenly by 4, simply return the number.\n",
    "Examples\n",
    "amplify(4) ➞ [1, 2, 3, 40]\n",
    "\n",
    "amplify(3) ➞ [1, 2, 3]\n",
    "\n",
    "amplify(25) ➞ [1, 2, 3, 40, 5, 6, 7, 80, 9, 10, 11, 120, 13, 14, 15, 160, 17, 18, 19, 200, 21, 22, 23, 240, 25]\n",
    "Notes\n",
    "•\tThe given integer will always be equal to or greater than 1.\n",
    "•\tInclude the number (see example above).\n",
    "•\tTo perform this problem with its intended purpose, try doing it with list comprehensions. If that's too difficult, just solve the challenge any way you can.\n"
   ]
  },
  {
   "cell_type": "code",
   "execution_count": 2,
   "metadata": {},
   "outputs": [
    {
     "name": "stdout",
     "output_type": "stream",
     "text": [
      "Please Enter A number : 25\n",
      "List of elements after amplify :  [1, 2, 3, 40, 5, 6, 7, 80, 9, 10, 11, 120, 13, 14, 15, 160, 17, 18, 19, 200, 21, 22, 23, 240, 25]\n"
     ]
    }
   ],
   "source": [
    "def amplify(n):\n",
    "    nlst = []\n",
    "    for i in range(1,n+1):\n",
    "        if i % 4 == 0:\n",
    "            nlst.append(i*10)\n",
    "        else:\n",
    "            nlst.append(i)\n",
    "    return nlst\n",
    "\n",
    "n = int(input(\"Please Enter A number : \"))\n",
    "print(\"List of elements after amplify : \", amplify(n))"
   ]
  },
  {
   "cell_type": "raw",
   "metadata": {},
   "source": [
    "Question2\n",
    "Create a function that takes a list of numbers and return the number that's unique.\n",
    "Examples\n",
    "unique([3, 3, 3, 7, 3, 3]) ➞ 7\n",
    "\n",
    "unique([0, 0, 0.77, 0, 0]) ➞ 0.77\n",
    "\n",
    "unique([0, 1, 1, 1, 1, 1, 1, 1]) ➞ 0\n",
    "Notes\n",
    "Test cases will always have exactly one unique number while all others are the same.\n"
   ]
  },
  {
   "cell_type": "code",
   "execution_count": 11,
   "metadata": {},
   "outputs": [
    {
     "name": "stdout",
     "output_type": "stream",
     "text": [
      "7\n"
     ]
    }
   ],
   "source": [
    "def unique(lst):\n",
    "    nlst = []\n",
    "    for e in lst:\n",
    "        if e not in nlst:\n",
    "            nlst.append(e)\n",
    "    if lst.count(nlst[0]) == 1:\n",
    "        return nlst[0]\n",
    "    else:\n",
    "        return nlst[1]\n",
    "\n",
    "print(unique([3, 3, 3, 7, 3, 3]))"
   ]
  },
  {
   "cell_type": "code",
   "execution_count": null,
   "metadata": {},
   "outputs": [],
   "source": []
  },
  {
   "cell_type": "raw",
   "metadata": {},
   "source": [
    "Question3\n",
    "Your task is to create a Circle constructor that creates a circle with a radius provided by an argument. The circles constructed must have two getters getArea() (PIr^2) and getPerimeter() (2PI*r) which give both respective areas and perimeter (circumference).\n",
    "For help with this class, I have provided you with a Rectangle constructor which you can use as a base example.\n",
    "Examples\n",
    "circy = Circle(11)\n",
    "circy.getArea()\n",
    "\n",
    "# Should return 380.132711084365\n",
    "\n",
    "circy = Circle(4.44)\n",
    "circy.getPerimeter()\n",
    "\n",
    "# Should return 27.897342763877365\n",
    "Notes\n",
    "Round results up to the nearest integer\n"
   ]
  },
  {
   "cell_type": "code",
   "execution_count": 12,
   "metadata": {},
   "outputs": [
    {
     "name": "stdout",
     "output_type": "stream",
     "text": [
      "Area :  380.132711084365\n",
      "Perimeter :  27.897342763877365\n"
     ]
    }
   ],
   "source": [
    "import math\n",
    "class circle:\n",
    "    def __init__(self,radius):\n",
    "        self.radius = radius\n",
    "    def getArea(self):\n",
    "        return math.pi*(self.radius**2)\n",
    "    def getPerimeter(self):\n",
    "         return 2*math.pi*self.radius\n",
    "        \n",
    "circy = circle(11)\n",
    "area = circy.getArea()\n",
    "print(\"Area : \", area)\n",
    "circy = circle(4.44)\n",
    "Perimeter = circy.getPerimeter()\n",
    "print(\"Perimeter : \", Perimeter)\n"
   ]
  },
  {
   "cell_type": "raw",
   "metadata": {},
   "source": [
    "Question4\n",
    "Create a function that takes a list of strings and return a list, sorted from shortest to longest.\n",
    "Examples\n",
    "sort_by_length([\"Google\", \"Apple\", \"Microsoft\"])\n",
    "➞ [\"Apple\", \"Google\", \"Microsoft\"]\n",
    "\n",
    "sort_by_length([\"Leonardo\", \"Michelangelo\", \"Raphael\", \"Donatello\"])\n",
    "➞ [\"Raphael\", \"Leonardo\", \"Donatello\", \"Michelangelo\"]\n",
    "\n",
    "sort_by_length([\"Turing\", \"Einstein\", \"Jung\"])\n",
    "➞ [\"Jung\", \"Turing\", \"Einstein\"]\n",
    "Notes\n",
    "All test cases contain lists with strings of different lengths, so you won't have to deal with multiple strings of the same length.\n",
    "\n"
   ]
  },
  {
   "cell_type": "code",
   "execution_count": 31,
   "metadata": {},
   "outputs": [
    {
     "name": "stdout",
     "output_type": "stream",
     "text": [
      "Please enter a list of strings comma seperated : Leonardo,Michelangelo,Raphael,Donatello\n",
      "List after sort by length :  ['Raphael', 'Leonardo', 'Donatello', 'Michelangelo']\n"
     ]
    }
   ],
   "source": [
    "def sort_by_length(lst):\n",
    "    dict1 = {}\n",
    "    for e in lst:\n",
    "        if e not in dict1:\n",
    "            dict1[len(e)] = e\n",
    "    nlst = []\n",
    "    ref = list(dict1.keys())\n",
    "    ref.sort()\n",
    "    for key in ref:\n",
    "        nlst.append(dict1[key])\n",
    "    return nlst\n",
    "\n",
    "lst = list(input(\"Please enter a list of strings comma seperated : \").split(','))\n",
    "print(\"List after sort by length : \", sort_by_length(lst))"
   ]
  },
  {
   "cell_type": "raw",
   "metadata": {},
   "source": [
    "Question5\n",
    "Create a function that validates whether three given integers form a Pythagorean triplet. The sum of the squares of the two smallest integers must equal the square of the largest number to be validated.\n",
    "\n",
    "\n",
    "Examples\n",
    "is_triplet(3, 4, 5) ➞ True\n",
    "# 3² + 4² = 25\n",
    "# 5² = 25\n",
    "\n",
    "is_triplet(13, 5, 12) ➞ True\n",
    "# 5² + 12² = 169\n",
    "# 13² = 169\n",
    "\n",
    "is_triplet(1, 2, 3) ➞ False\n",
    "# 1² + 2² = 5\n",
    "# 3² = 9\n",
    "Notes\n",
    "Numbers may not be given in a sorted order.\n"
   ]
  },
  {
   "cell_type": "code",
   "execution_count": 5,
   "metadata": {},
   "outputs": [
    {
     "name": "stdout",
     "output_type": "stream",
     "text": [
      "Please enter triplets comma seperated : 4,5,3\n",
      "Is it a triplet :  True\n"
     ]
    }
   ],
   "source": [
    "def is_triplet(a,b,c):\n",
    "    if a > b and a > c:\n",
    "        large = a\n",
    "        small1 = b\n",
    "        small2 = c\n",
    "    elif b > a and b > c:\n",
    "        large = b\n",
    "        small1 = a\n",
    "        small2 = c\n",
    "    else:\n",
    "        large = c\n",
    "        small1 = b\n",
    "        small2 = c=a\n",
    "    if large**2 == small1**2 + small2**2 :\n",
    "        return True\n",
    "    else:\n",
    "        return False\n",
    "\n",
    "a,b,c = input(\"Please enter triplets comma seperated : \").split(',')\n",
    "print(\"Is it a triplet : \", is_triplet(int(a),int(b),int(c)))"
   ]
  },
  {
   "cell_type": "code",
   "execution_count": null,
   "metadata": {},
   "outputs": [],
   "source": []
  },
  {
   "cell_type": "code",
   "execution_count": null,
   "metadata": {},
   "outputs": [],
   "source": []
  },
  {
   "cell_type": "code",
   "execution_count": null,
   "metadata": {},
   "outputs": [],
   "source": []
  }
 ],
 "metadata": {
  "kernelspec": {
   "display_name": "Python 3",
   "language": "python",
   "name": "python3"
  },
  "language_info": {
   "codemirror_mode": {
    "name": "ipython",
    "version": 3
   },
   "file_extension": ".py",
   "mimetype": "text/x-python",
   "name": "python",
   "nbconvert_exporter": "python",
   "pygments_lexer": "ipython3",
   "version": "3.8.3"
  }
 },
 "nbformat": 4,
 "nbformat_minor": 4
}
