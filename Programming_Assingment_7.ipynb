{
 "cells": [
  {
   "cell_type": "markdown",
   "metadata": {},
   "source": [
    "1.Write a Python Program to find sum of array?"
   ]
  },
  {
   "cell_type": "code",
   "execution_count": 1,
   "metadata": {},
   "outputs": [
    {
     "name": "stdout",
     "output_type": "stream",
     "text": [
      "Please input the array elements 'space seperated' : 1 2 3\n",
      "Sum of Array is :  6\n"
     ]
    }
   ],
   "source": [
    "def SumArray(lst):\n",
    "    sum = 0\n",
    "    for e in lst:\n",
    "        sum +=int(e)\n",
    "    return sum\n",
    "\n",
    "array = input(\"Please input the array elements 'space seperated' : \").split()\n",
    "print(\"Sum of Array is : \" ,SumArray(array))"
   ]
  },
  {
   "cell_type": "markdown",
   "metadata": {},
   "source": [
    "2.Write a Python Program to find largest element in an array?"
   ]
  },
  {
   "cell_type": "code",
   "execution_count": 2,
   "metadata": {},
   "outputs": [
    {
     "name": "stdout",
     "output_type": "stream",
     "text": [
      "Please input the array elements 'space seperated' : 100 1 2 4 80 72 89 3 12 189\n",
      "Largest Element of Array is :  189\n"
     ]
    }
   ],
   "source": [
    "def LargestElement(lst):\n",
    "    large = 0\n",
    "    for e in lst:\n",
    "        if int(e) > large:\n",
    "            large = int(e)\n",
    "    return large\n",
    "\n",
    "array = input(\"Please input the array elements 'space seperated' : \").split()\n",
    "print(\"Largest Element of Array is : \" ,LargestElement(array))"
   ]
  },
  {
   "cell_type": "markdown",
   "metadata": {},
   "source": [
    "3.Write a Python Program for array rotation?"
   ]
  },
  {
   "cell_type": "code",
   "execution_count": 7,
   "metadata": {},
   "outputs": [
    {
     "name": "stdout",
     "output_type": "stream",
     "text": [
      "Please input the array elements 'space seperated' : 4 5 7 8 12 43\n",
      "Array after Rotation :  [43, 12, 8, 7, 5]\n"
     ]
    }
   ],
   "source": [
    "def RotateArray(lst):\n",
    "    rLst= []\n",
    "    for i in range(len(lst)-1,0,-1):\n",
    "        rLst.append(int(lst[i]))\n",
    "    return rLst\n",
    "array = input(\"Please input the array elements 'space seperated' : \").split()\n",
    "print(\"Array after Rotation : \", RotateArray(array))"
   ]
  },
  {
   "cell_type": "markdown",
   "metadata": {},
   "source": [
    "4.Write a Python Program to Split the array and add the first part to the end?"
   ]
  },
  {
   "cell_type": "code",
   "execution_count": 27,
   "metadata": {},
   "outputs": [
    {
     "name": "stdout",
     "output_type": "stream",
     "text": [
      "Please input the array elements 'space seperated' : 1 2 3 4 5 6 7\n",
      "Array after Shuffle :  [4, 5, 6, 7, 1, 2, 3]\n"
     ]
    }
   ],
   "source": [
    "def SplitArrayAndShuffle(lst):\n",
    "    sLst = []\n",
    "    mid = len(lst)// 2\n",
    "    for i in range(0, mid):\n",
    "        sLst.append(int(lst[mid + i]))\n",
    "    if len(lst)% 2 != 0:\n",
    "        sLst.append(int(lst[-1]))\n",
    "    for i in range(0, mid):\n",
    "        sLst.append(int(lst[i]))\n",
    "    return sLst\n",
    "    \n",
    "    \n",
    "array = input(\"Please input the array elements 'space seperated' : \").split()\n",
    "print(\"Array after Shuffle : \", SplitArrayAndShuffle(array))    "
   ]
  },
  {
   "cell_type": "markdown",
   "metadata": {},
   "source": [
    "5.Write a Python Program to check if given array is Monotonic?"
   ]
  },
  {
   "cell_type": "code",
   "execution_count": 54,
   "metadata": {},
   "outputs": [
    {
     "name": "stdout",
     "output_type": "stream",
     "text": [
      "Please input the array elements 'space seperated' : 1 2 3 8 5\n",
      "Array Is Monotonic :  False\n"
     ]
    }
   ],
   "source": [
    "def checkMonotonic(lst):\n",
    "    inc = False\n",
    "    if int(lst[1]) > int(lst[0]):\n",
    "        inc = True\n",
    "    if inc:\n",
    "        for i in range(0,len(lst)-1):\n",
    "            if(int(lst[i]) > int(lst[i + 1])):\n",
    "                return False\n",
    "    if not(inc):\n",
    "        for i in range(0,len(lst)-1):\n",
    "            if(int(lst[i]) < int(lst[i + 1])):\n",
    "                return False\n",
    "    return True\n",
    "array = input(\"Please input the array elements 'space seperated' : \").split()\n",
    "print(\"Array Is Monotonic : \", checkMonotonic(array))\n",
    "        "
   ]
  },
  {
   "cell_type": "code",
   "execution_count": null,
   "metadata": {},
   "outputs": [],
   "source": []
  },
  {
   "cell_type": "code",
   "execution_count": null,
   "metadata": {},
   "outputs": [],
   "source": []
  }
 ],
 "metadata": {
  "kernelspec": {
   "display_name": "Python 3",
   "language": "python",
   "name": "python3"
  },
  "language_info": {
   "codemirror_mode": {
    "name": "ipython",
    "version": 3
   },
   "file_extension": ".py",
   "mimetype": "text/x-python",
   "name": "python",
   "nbconvert_exporter": "python",
   "pygments_lexer": "ipython3",
   "version": "3.8.3"
  }
 },
 "nbformat": 4,
 "nbformat_minor": 4
}
