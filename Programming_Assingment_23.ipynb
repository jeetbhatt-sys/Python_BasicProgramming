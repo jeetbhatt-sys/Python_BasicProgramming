{
 "cells": [
  {
   "cell_type": "raw",
   "metadata": {},
   "source": [
    "Question 1\n",
    "Create a function that takes a number as an argument and returns True or False depending on whether the number is symmetrical or not. A number is symmetrical when it is the same as its reverse.\n",
    "Examples\n",
    "is_symmetrical(7227) ➞ True\n",
    "\n",
    "is_symmetrical(12567) ➞ False\n",
    "\n",
    "is_symmetrical(44444444) ➞ True\n",
    "\n",
    "is_symmetrical(9939) ➞ False\n",
    "\n",
    "is_symmetrical(1112111) ➞ True\n"
   ]
  },
  {
   "cell_type": "code",
   "execution_count": 9,
   "metadata": {},
   "outputs": [
    {
     "name": "stdout",
     "output_type": "stream",
     "text": [
      "Please enter a number : 44444444\n",
      "True\n"
     ]
    }
   ],
   "source": [
    "def is_symmetrical(num):\n",
    "    rev = 0\n",
    "    temp = num \n",
    "    while temp > 1:\n",
    "        rem = temp % 10\n",
    "        temp = temp // 10\n",
    "        rev = rev*10+rem\n",
    "    if rev == num:\n",
    "        return True\n",
    "    else:\n",
    "        return False\n",
    "    \n",
    "num = int(input(\"Please enter a number : \"))\n",
    "print(is_symmetrical(num))"
   ]
  },
  {
   "cell_type": "raw",
   "metadata": {},
   "source": [
    "Question 2\n",
    "Given a string of numbers separated by a comma and space, return the product of the numbers.\n",
    "Examples\n",
    "multiply_nums(\"2, 3\") ➞ 6\n",
    "\n",
    "multiply_nums(\"1, 2, 3, 4\") ➞ 24\n",
    "\n",
    "multiply_nums(\"54, 75, 453, 0\") ➞ 0\n",
    "\n",
    "multiply_nums(\"10, -2\") ➞ -20\n"
   ]
  },
  {
   "cell_type": "code",
   "execution_count": 18,
   "metadata": {},
   "outputs": [
    {
     "name": "stdout",
     "output_type": "stream",
     "text": [
      "Enter a string of numbers comma seperated : 2,4\n",
      "8\n"
     ]
    }
   ],
   "source": [
    "def multiply_nums(str1):\n",
    "    total = 1\n",
    "    for c in str1.split(','):\n",
    "        total *= int(c)\n",
    "    return total\n",
    "\n",
    "str1 = input(\"Enter a string of numbers comma seperated : \")\n",
    "print(multiply_nums(str1))\n"
   ]
  },
  {
   "cell_type": "raw",
   "metadata": {},
   "source": [
    "Question 3\n",
    "Create a function that squares every digit of a number.\n",
    "Examples\n",
    "square_digits(9119) ➞ 811181\n",
    "\n",
    "square_digits(2483) ➞ 416649\n",
    "\n",
    "square_digits(3212) ➞ 9414\n",
    "Notes\n",
    "The function receives an integer and must return an integer.\n"
   ]
  },
  {
   "cell_type": "code",
   "execution_count": 2,
   "metadata": {},
   "outputs": [
    {
     "name": "stdout",
     "output_type": "stream",
     "text": [
      "Please enter a number : 3212\n",
      "Square of digits :  9414\n"
     ]
    }
   ],
   "source": [
    "def square_digits(num):\n",
    "    res = ''\n",
    "    for c in str(num):\n",
    "        res += str(int(c)**2)\n",
    "    return int(res)\n",
    "\n",
    "num = int(input(\"Please enter a number : \"))\n",
    "\n",
    "print(\"Square of digits : \", square_digits(num))\n"
   ]
  },
  {
   "cell_type": "raw",
   "metadata": {},
   "source": [
    "Question 4\n",
    "Create a function that sorts a list and removes all duplicate items from it.\n",
    "Examples\n",
    "setify([1, 3, 3, 5, 5]) ➞ [1, 3, 5]\n",
    "\n",
    "setify([4, 4, 4, 4]) ➞ [4]\n",
    "\n",
    "setify([5, 7, 8, 9, 10, 15]) ➞ [5, 7, 8, 9, 10, 15]\n",
    "\n",
    "setify([3, 3, 3, 2, 1]) ➞ [1, 2, 3]\n"
   ]
  },
  {
   "cell_type": "code",
   "execution_count": 8,
   "metadata": {},
   "outputs": [
    {
     "name": "stdout",
     "output_type": "stream",
     "text": [
      "Please enter elements comma seperated : 1,3,3,5,5,6\n",
      "List after operation :  [1, 3, 5, 6]\n"
     ]
    }
   ],
   "source": [
    "def setify(lst):\n",
    "    nlst = []\n",
    "    for e in lst:\n",
    "        if int(e) not in nlst:\n",
    "            nlst.append(int(e))\n",
    "    nlst.sort()\n",
    "    return nlst\n",
    "\n",
    "lst = list(input(\"Please enter elements comma seperated : \").split(','))\n",
    "print(\"List after operation : \", setify(lst))"
   ]
  },
  {
   "cell_type": "raw",
   "metadata": {},
   "source": [
    "Question 5\n",
    "Create a function that returns the mean of all digits.\n",
    "Examples\n",
    "mean(42) ➞ 3\n",
    "\n",
    "mean(12345) ➞ 3\n",
    "\n",
    "mean(666) ➞ 6\n",
    "Notes\n",
    "•\tThe mean of all digits is the sum of digits / how many digits there are (e.g. mean of digits in 512 is (5+1+2)/3(number of digits) = 8/3=2).\n",
    "•\tThe mean will always be an integer.\n"
   ]
  },
  {
   "cell_type": "code",
   "execution_count": 11,
   "metadata": {},
   "outputs": [
    {
     "name": "stdout",
     "output_type": "stream",
     "text": [
      "Please enter a number : 666\n",
      "Mean of digits :  6\n"
     ]
    }
   ],
   "source": [
    "def mean(num):\n",
    "    s = 0\n",
    "    for c in str(num):\n",
    "        s += int(c)\n",
    "    return int(s/len(str(num)))\n",
    "\n",
    "num = int(input(\"Please enter a number : \"))\n",
    "print(\"Mean of digits : \", mean(num))"
   ]
  },
  {
   "cell_type": "code",
   "execution_count": null,
   "metadata": {},
   "outputs": [],
   "source": []
  },
  {
   "cell_type": "code",
   "execution_count": null,
   "metadata": {},
   "outputs": [],
   "source": []
  }
 ],
 "metadata": {
  "kernelspec": {
   "display_name": "Python 3",
   "language": "python",
   "name": "python3"
  },
  "language_info": {
   "codemirror_mode": {
    "name": "ipython",
    "version": 3
   },
   "file_extension": ".py",
   "mimetype": "text/x-python",
   "name": "python",
   "nbconvert_exporter": "python",
   "pygments_lexer": "ipython3",
   "version": "3.8.3"
  }
 },
 "nbformat": 4,
 "nbformat_minor": 4
}
