{
 "cells": [
  {
   "cell_type": "markdown",
   "metadata": {},
   "source": [
    "1.Write a Python program to find words which are greater than given length k?"
   ]
  },
  {
   "cell_type": "code",
   "execution_count": 4,
   "metadata": {},
   "outputs": [
    {
     "name": "stdout",
     "output_type": "stream",
     "text": [
      "Enter the value of k to find the words which are greater than lenght k :4\n",
      "Words with a length greater than 4 : \n",
      "lemon\n",
      "jorden\n",
      "husty\n"
     ]
    }
   ],
   "source": [
    "lst = ['the','a','an','are','knee','jeet','lemon','push','just','jorden','husty']\n",
    "k = int(input(\"Enter the value of k to find the words which are greater than lenght k :\"))\n",
    "print(\"Words with a length greater than {} : \".format(k))\n",
    "for e in lst:\n",
    "    if(len(e) > k):\n",
    "        print(e)\n"
   ]
  },
  {
   "cell_type": "markdown",
   "metadata": {},
   "source": [
    "2.Write a Python program for removing i-th character from a string?"
   ]
  },
  {
   "cell_type": "code",
   "execution_count": 10,
   "metadata": {},
   "outputs": [
    {
     "name": "stdout",
     "output_type": "stream",
     "text": [
      "Please enter the string : Hello Jeet, How you doing!!\n",
      "Enter the value of i : 3\n",
      "String after removing 3th character from string : Helo Jeet, How you doing!!\n"
     ]
    }
   ],
   "source": [
    "old = input(\"Please enter the string : \")\n",
    "i = int(input(\"Enter the value of i : \"))\n",
    "new = \"\"\n",
    "for j in range(0,len(old)):\n",
    "    if j == i:\n",
    "        continue\n",
    "    else:\n",
    "        new += old[j]\n",
    "print(\"String after removing {}th character from string : {}\".format(i,new))"
   ]
  },
  {
   "cell_type": "markdown",
   "metadata": {},
   "source": [
    "3.Write a Python program to split and join a string?"
   ]
  },
  {
   "cell_type": "code",
   "execution_count": 14,
   "metadata": {},
   "outputs": [
    {
     "name": "stdout",
     "output_type": "stream",
     "text": [
      "Split string :  ['Hey', 'Hello', 'How', 'you', 'doing', 'What', 'are', 'you', 'upto']\n",
      "Join String :  Hey-Hello-How-you-doing-What-are-you-upto\n"
     ]
    }
   ],
   "source": [
    "string = \"Hey Hello How you doing What are you upto\"\n",
    "print(\"Split string : \", string.split())\n",
    "print(\"Join String : \", '-'.join(string.split()) )"
   ]
  },
  {
   "cell_type": "markdown",
   "metadata": {},
   "source": [
    "4.Write a Python to check if a given string is binary string or not?"
   ]
  },
  {
   "cell_type": "code",
   "execution_count": 18,
   "metadata": {},
   "outputs": [
    {
     "name": "stdout",
     "output_type": "stream",
     "text": [
      "Please enter a string : 1010101023\n",
      "Given string is binary :  False\n"
     ]
    }
   ],
   "source": [
    "def IsBinaryString(string):\n",
    "    l = '10'\n",
    "    for c in string:\n",
    "        if c not in l:\n",
    "            return False\n",
    "    return True\n",
    "        \n",
    "\n",
    "string = input(\"Please enter a string : \")\n",
    "print(\"Given string is binary : \",IsBinaryString(string)  )"
   ]
  },
  {
   "cell_type": "markdown",
   "metadata": {},
   "source": [
    "5.Write a Python program to find uncommon words from two Strings?"
   ]
  },
  {
   "cell_type": "code",
   "execution_count": 21,
   "metadata": {},
   "outputs": [
    {
     "name": "stdout",
     "output_type": "stream",
     "text": [
      "Please enter a string : hello jeet, how you doing\n",
      "Please enter another string : heelo doing great\n",
      "Uncommon words between strings :  {'you', 'how', 'jeet,', 'hello'}\n"
     ]
    }
   ],
   "source": [
    "string1 = input(\"Please enter a string : \")\n",
    "string2 = input(\"Please enter another string : \")\n",
    "\n",
    "s1 = set(string1.split())\n",
    "s2 = set(string2.split())\n",
    "print(\"Uncommon words between strings : \", s1-s2 )\n"
   ]
  },
  {
   "cell_type": "markdown",
   "metadata": {},
   "source": [
    "6.Write a Python to find all duplicate characters in string?"
   ]
  },
  {
   "cell_type": "code",
   "execution_count": 2,
   "metadata": {},
   "outputs": [
    {
     "name": "stdout",
     "output_type": "stream",
     "text": [
      "Please enter a string : hello00o\n",
      "Duplicate characters in strings : \n",
      "l\n",
      "0\n",
      "o\n"
     ]
    }
   ],
   "source": [
    "string1 = input(\"Please enter a string : \")\n",
    "print(\"Duplicate characters in strings : \" )\n",
    "unique = ''\n",
    "for c in string1:\n",
    "    if c not in unique:\n",
    "        unique +=c\n",
    "    else:\n",
    "        print(c)\n",
    "    \n"
   ]
  },
  {
   "cell_type": "markdown",
   "metadata": {},
   "source": [
    "7.Write a Python Program to check if a string contains any special character?"
   ]
  },
  {
   "cell_type": "code",
   "execution_count": 1,
   "metadata": {},
   "outputs": [
    {
     "name": "stdout",
     "output_type": "stream",
     "text": [
      "Please enter a string : Jeet#kcf@Bhatt!\n",
      "Is string Contains any special Character :  True\n"
     ]
    }
   ],
   "source": [
    "import string\n",
    "specialChar = string.punctuation\n",
    "def IsSpecialChar(string1):\n",
    "    for c in string1:\n",
    "        if c in specialChar:\n",
    "            return True\n",
    "    return False\n",
    "\n",
    "string1 = input(\"Please enter a string : \")\n",
    "print(\"Is string Contains any special Character : \", IsSpecialChar(string1))"
   ]
  },
  {
   "cell_type": "code",
   "execution_count": null,
   "metadata": {},
   "outputs": [],
   "source": []
  }
 ],
 "metadata": {
  "kernelspec": {
   "display_name": "Python 3",
   "language": "python",
   "name": "python3"
  },
  "language_info": {
   "codemirror_mode": {
    "name": "ipython",
    "version": 3
   },
   "file_extension": ".py",
   "mimetype": "text/x-python",
   "name": "python",
   "nbconvert_exporter": "python",
   "pygments_lexer": "ipython3",
   "version": "3.8.3"
  }
 },
 "nbformat": 4,
 "nbformat_minor": 4
}
