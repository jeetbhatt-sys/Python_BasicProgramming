{
 "cells": [
  {
   "cell_type": "markdown",
   "metadata": {},
   "source": [
    "1.Write a Python Program to Find the Factorial of a Number?"
   ]
  },
  {
   "cell_type": "code",
   "execution_count": 10,
   "metadata": {},
   "outputs": [
    {
     "name": "stdout",
     "output_type": "stream",
     "text": [
      "Please Enter a Number : 10\n",
      "Factorial of 10 : 3628800\n"
     ]
    }
   ],
   "source": [
    "def fact(n):\n",
    "    f = 1\n",
    "    for i in range(1,n+1):\n",
    "        f = f * i        \n",
    "    return(f)\n",
    "\n",
    "num = int(input(\"Please Enter a Number : \"))\n",
    "print(\"Factorial of {} : {}\".format(num,fact(num)))"
   ]
  },
  {
   "cell_type": "markdown",
   "metadata": {},
   "source": [
    "2.Write a Python Program to Display the multiplication Table?"
   ]
  },
  {
   "cell_type": "code",
   "execution_count": 13,
   "metadata": {},
   "outputs": [
    {
     "name": "stdout",
     "output_type": "stream",
     "text": [
      "Please Enter a Number : 13\n",
      "13 * 1 = 13\n",
      "13 * 2 = 26\n",
      "13 * 3 = 39\n",
      "13 * 4 = 52\n",
      "13 * 5 = 65\n",
      "13 * 6 = 78\n",
      "13 * 7 = 91\n",
      "13 * 8 = 104\n",
      "13 * 9 = 117\n",
      "13 * 10 = 130\n"
     ]
    }
   ],
   "source": [
    "def mulTable(n):\n",
    "    for i in range(1,11):\n",
    "        print(\"{} * {} = {}\".format(n,i,n*i))\n",
    "num = int(input(\"Please Enter a Number : \"))\n",
    "mulTable(num)"
   ]
  },
  {
   "cell_type": "markdown",
   "metadata": {},
   "source": [
    "3.Write a Python Program to Print the Fibonacci sequence?"
   ]
  },
  {
   "cell_type": "code",
   "execution_count": 23,
   "metadata": {},
   "outputs": [
    {
     "name": "stdout",
     "output_type": "stream",
     "text": [
      "Please Enter a Number : 10\n",
      "0 1 1 2 3 5 8 13 21 34 "
     ]
    }
   ],
   "source": [
    "def Fibonacci(n):\n",
    "    i = 0\n",
    "    j= 1\n",
    "    count = 0\n",
    "    while count < n:\n",
    "        print(i, end =' ')\n",
    "        k = i + j\n",
    "        i = j\n",
    "        j = k\n",
    "        count += 1\n",
    "        \n",
    "num = int(input(\"Please Enter a Number : \"))\n",
    "Fibonacci(num)"
   ]
  },
  {
   "cell_type": "markdown",
   "metadata": {},
   "source": [
    "4.Write a Python Program to Check Armstrong Number?"
   ]
  },
  {
   "cell_type": "code",
   "execution_count": 33,
   "metadata": {},
   "outputs": [
    {
     "name": "stdout",
     "output_type": "stream",
     "text": [
      "Please Enter a Number : 153\n",
      " Number is an Armstrong Number.\n"
     ]
    }
   ],
   "source": [
    "def IsArmstrong(num):\n",
    "    s = 0\n",
    "    for i in str(num):\n",
    "        s += int(i)**3\n",
    "    if s == num :\n",
    "        return True\n",
    "    else:\n",
    "        return False\n",
    "\n",
    "num = int(input(\"Please Enter a Number : \"))\n",
    "if IsArmstrong(num):\n",
    "    print(\" Number is an Armstrong Number.\")\n",
    "else:\n",
    "    print(\"Number is not an Armstrong Number\")"
   ]
  },
  {
   "cell_type": "markdown",
   "metadata": {},
   "source": [
    "5.Write a Python Program to Find Armstrong Number in an Interval?"
   ]
  },
  {
   "cell_type": "code",
   "execution_count": 34,
   "metadata": {},
   "outputs": [
    {
     "name": "stdout",
     "output_type": "stream",
     "text": [
      "Please enter the range for which you want to generate Armstrong Number separted by space :0 1000\n",
      "0 1 153 370 371 407 "
     ]
    }
   ],
   "source": [
    "s , n = input(\"Please enter the range for which you want to generate Armstrong Number separted by space :\").split()\n",
    "\n",
    "for i in range(int(s),int(n)+1):\n",
    "    if IsArmstrong(i):\n",
    "        print(i ,end = ' ')\n"
   ]
  },
  {
   "cell_type": "markdown",
   "metadata": {},
   "source": [
    "6.Write a Python Program to Find the Sum of Natural Numbers?"
   ]
  },
  {
   "cell_type": "code",
   "execution_count": 38,
   "metadata": {},
   "outputs": [
    {
     "name": "stdout",
     "output_type": "stream",
     "text": [
      "Please Enter a Number to which you want to find the sum of the natural numbers : 100\n",
      "Sum :  5050\n"
     ]
    }
   ],
   "source": [
    "num = int(input(\"Please Enter a Number to which you want to find the sum of the natural numbers : \"))\n",
    "\n",
    "print(\"Sum : \", int(num*(num + 1)/2))"
   ]
  },
  {
   "cell_type": "code",
   "execution_count": null,
   "metadata": {},
   "outputs": [],
   "source": []
  }
 ],
 "metadata": {
  "kernelspec": {
   "display_name": "Python 3",
   "language": "python",
   "name": "python3"
  },
  "language_info": {
   "codemirror_mode": {
    "name": "ipython",
    "version": 3
   },
   "file_extension": ".py",
   "mimetype": "text/x-python",
   "name": "python",
   "nbconvert_exporter": "python",
   "pygments_lexer": "ipython3",
   "version": "3.8.3"
  }
 },
 "nbformat": 4,
 "nbformat_minor": 4
}
