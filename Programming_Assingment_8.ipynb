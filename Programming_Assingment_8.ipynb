{
 "cells": [
  {
   "cell_type": "markdown",
   "metadata": {},
   "source": [
    "1.Write a Python Program to Add Two Matrices?"
   ]
  },
  {
   "cell_type": "code",
   "execution_count": 4,
   "metadata": {},
   "outputs": [
    {
     "name": "stdout",
     "output_type": "stream",
     "text": [
      "Addition of Matrix : \n",
      " [[11  4 33]\n",
      " [18 10 22]\n",
      " [79 16 88]]\n"
     ]
    }
   ],
   "source": [
    "import numpy as np\n",
    "a = np.matrix('1 2 3; 4 5 6; 7 8 9')\n",
    "b = np.matrix('10 2 30; 14 5 16; 72 8 79')\n",
    "print(\"Addition of Matrix : \\n\",a+b)"
   ]
  },
  {
   "cell_type": "markdown",
   "metadata": {},
   "source": [
    "2.Write a Python Program to Multiply Two Matrices?"
   ]
  },
  {
   "cell_type": "code",
   "execution_count": 5,
   "metadata": {},
   "outputs": [
    {
     "name": "stdout",
     "output_type": "stream",
     "text": [
      "Multiplication of Matrix : \n",
      " [[ 254   36  299]\n",
      " [ 542   81  674]\n",
      " [ 830  126 1049]]\n"
     ]
    }
   ],
   "source": [
    "import numpy as np\n",
    "a = np.matrix('1 2 3; 4 5 6; 7 8 9')\n",
    "b = np.matrix('10 2 30; 14 5 16; 72 8 79')\n",
    "print(\"Multiplication of Matrix : \\n\",a*b)"
   ]
  },
  {
   "cell_type": "markdown",
   "metadata": {},
   "source": [
    "3.Write a Python Program to Transpose a Matrix?"
   ]
  },
  {
   "cell_type": "code",
   "execution_count": 12,
   "metadata": {},
   "outputs": [
    {
     "name": "stdout",
     "output_type": "stream",
     "text": [
      "Transpose of Matrix : \n",
      " [[1 4 7]\n",
      " [2 5 8]\n",
      " [3 6 9]]\n"
     ]
    }
   ],
   "source": [
    "import numpy as np\n",
    "a = np.matrix('1 2 3; 4 5 6; 7 8 9')\n",
    "print(\"Transpose of Matrix : \\n\",a.transpose())\n"
   ]
  },
  {
   "cell_type": "markdown",
   "metadata": {},
   "source": [
    "4.Write a Python Program to Sort Words in Alphabetic Order?"
   ]
  },
  {
   "cell_type": "code",
   "execution_count": 21,
   "metadata": {},
   "outputs": [
    {
     "name": "stdout",
     "output_type": "stream",
     "text": [
      "The sorted words are:\n",
      "am\n",
      "an\n",
      "is\n",
      "jeet\n",
      "the\n"
     ]
    }
   ],
   "source": [
    "lst = ['jeet','is','the','am','an']\n",
    "lst.sort()\n",
    "print(\"The sorted words are:\")\n",
    "for e in lst:\n",
    "    print(e)"
   ]
  },
  {
   "cell_type": "markdown",
   "metadata": {},
   "source": [
    "5.Write a Python Program to Remove Punctuation From a String?"
   ]
  },
  {
   "cell_type": "code",
   "execution_count": 26,
   "metadata": {},
   "outputs": [
    {
     "name": "stdout",
     "output_type": "stream",
     "text": [
      "Please Enter a string with Punctuations : Hello!!!, he said ---and went.\n",
      "String After removing Punctuations :  Hello he said and went\n"
     ]
    }
   ],
   "source": [
    "punctuations = '''!()-[]{};:'\"\\,<>./?@#$%^&*_~'''\n",
    "s = input(\"Please Enter a string with Punctuations : \")\n",
    "n =''\n",
    "for c in s:\n",
    "    if c not in punctuations:\n",
    "        n +=c\n",
    "print(\"String After removing Punctuations : \",n)"
   ]
  },
  {
   "cell_type": "code",
   "execution_count": null,
   "metadata": {},
   "outputs": [],
   "source": []
  }
 ],
 "metadata": {
  "kernelspec": {
   "display_name": "Python 3",
   "language": "python",
   "name": "python3"
  },
  "language_info": {
   "codemirror_mode": {
    "name": "ipython",
    "version": 3
   },
   "file_extension": ".py",
   "mimetype": "text/x-python",
   "name": "python",
   "nbconvert_exporter": "python",
   "pygments_lexer": "ipython3",
   "version": "3.8.3"
  }
 },
 "nbformat": 4,
 "nbformat_minor": 4
}
