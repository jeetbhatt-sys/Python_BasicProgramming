{
 "cells": [
  {
   "cell_type": "markdown",
   "metadata": {},
   "source": [
    "1.Write a Python Program to Display Fibonacci Sequence Using Recursion?"
   ]
  },
  {
   "cell_type": "code",
   "execution_count": 7,
   "metadata": {},
   "outputs": [
    {
     "name": "stdout",
     "output_type": "stream",
     "text": [
      "Please enter a integer : 10\n",
      "Fibonacci sequence : \n",
      "0\n",
      "1\n",
      "1\n",
      "2\n",
      "3\n",
      "5\n",
      "8\n",
      "13\n",
      "21\n",
      "34\n"
     ]
    }
   ],
   "source": [
    "def Fibonacci(n):\n",
    "    if n <= 1:\n",
    "        return n\n",
    "    else:\n",
    "        return(Fibonacci(n-1) + Fibonacci(n-2))\n",
    "\n",
    "n = int(input(\"Please enter a integer : \"))\n",
    "print(\"Fibonacci sequence : \")\n",
    "for i in range(n):\n",
    "    print(Fibonacci(i))"
   ]
  },
  {
   "cell_type": "markdown",
   "metadata": {},
   "source": [
    "2.Write a Python Program to Find Factorial of Number Using Recursion?"
   ]
  },
  {
   "cell_type": "code",
   "execution_count": 20,
   "metadata": {},
   "outputs": [
    {
     "name": "stdout",
     "output_type": "stream",
     "text": [
      "Please Enter a number : 10\n",
      "Factorial of 10 : 3628800\n"
     ]
    }
   ],
   "source": [
    "def Factorial(n):\n",
    "    if n == 1:\n",
    "        return n\n",
    "    else:\n",
    "        return n * Factorial(n-1)\n",
    "num = int(input(\"Please Enter a number : \"))\n",
    "print(\"Factorial of {} : {}\".format(num,Factorial(num)))"
   ]
  },
  {
   "cell_type": "markdown",
   "metadata": {},
   "source": [
    "3.Write a Python Program to calculate your Body Mass Index?"
   ]
  },
  {
   "cell_type": "code",
   "execution_count": 21,
   "metadata": {},
   "outputs": [
    {
     "name": "stdout",
     "output_type": "stream",
     "text": [
      "Please Enter your weight in kg. : 74\n",
      "Please Enter your Height in meter. : 1.80\n",
      "BMI :  22.839506172839506\n"
     ]
    }
   ],
   "source": [
    "Weight = float(input(\"Please Enter your weight in kg. : \"))\n",
    "Height = float(input(\"Please Enter your Height in meter. : \"))\n",
    "BMI = Weight / Height **2\n",
    "print(\"BMI : \" , BMI)"
   ]
  },
  {
   "cell_type": "markdown",
   "metadata": {},
   "source": [
    "4.Write a Python Program to calculate the natural logarithm of any number?"
   ]
  },
  {
   "cell_type": "code",
   "execution_count": 22,
   "metadata": {},
   "outputs": [
    {
     "name": "stdout",
     "output_type": "stream",
     "text": [
      "Please Enter a number : 10\n",
      "Natural Log of 10 is 2.302585092994046\n"
     ]
    }
   ],
   "source": [
    "import math \n",
    "num = int(input(\"Please Enter a number : \"))    \n",
    "print(\"Natural Log of {} is {}\".format(num,math.log(num)))\n"
   ]
  },
  {
   "cell_type": "markdown",
   "metadata": {},
   "source": [
    "5.Write a Python Program for cube sum of first n natural numbers?"
   ]
  },
  {
   "cell_type": "code",
   "execution_count": 34,
   "metadata": {},
   "outputs": [
    {
     "name": "stdout",
     "output_type": "stream",
     "text": [
      "Please Enter a number : 100\n",
      "Cube Sum of first 100 natural number is 25502500\n",
      "Cube Sum of first 100 natural number is 25502500.0\n"
     ]
    }
   ],
   "source": [
    "num = int(input(\"Please Enter a number : \"))    \n",
    "print(\"Cube Sum of first {} natural number is {}\".format(num,sum([i**3 for i in range(1,num+1)])))\n",
    "\n",
    "print(\"Cube Sum of first {} natural number is {}\".format(num,(num *(num +1)/2)**2))"
   ]
  },
  {
   "cell_type": "code",
   "execution_count": null,
   "metadata": {},
   "outputs": [],
   "source": []
  }
 ],
 "metadata": {
  "kernelspec": {
   "display_name": "Python 3",
   "language": "python",
   "name": "python3"
  },
  "language_info": {
   "codemirror_mode": {
    "name": "ipython",
    "version": 3
   },
   "file_extension": ".py",
   "mimetype": "text/x-python",
   "name": "python",
   "nbconvert_exporter": "python",
   "pygments_lexer": "ipython3",
   "version": "3.8.3"
  }
 },
 "nbformat": 4,
 "nbformat_minor": 4
}
