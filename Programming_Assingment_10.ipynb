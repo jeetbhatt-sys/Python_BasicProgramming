{
 "cells": [
  {
   "cell_type": "markdown",
   "metadata": {},
   "source": [
    "1.Write a Python program to find sum of elements in list?"
   ]
  },
  {
   "cell_type": "code",
   "execution_count": 15,
   "metadata": {},
   "outputs": [
    {
     "name": "stdout",
     "output_type": "stream",
     "text": [
      "Sum of list Elements :  132\n"
     ]
    }
   ],
   "source": [
    "lst = [1,2,5,6,7,8,33,4,66]\n",
    "print(\"Sum of list Elements : \",sum(lst))"
   ]
  },
  {
   "cell_type": "markdown",
   "metadata": {},
   "source": [
    "2.Write a Python program to  Multiply all numbers in the list?"
   ]
  },
  {
   "cell_type": "code",
   "execution_count": 16,
   "metadata": {},
   "outputs": [
    {
     "name": "stdout",
     "output_type": "stream",
     "text": [
      "Muliply of list Elements :  29272320\n"
     ]
    }
   ],
   "source": [
    "res = 1\n",
    "for e in lst:\n",
    "    res *=e\n",
    "print(\"Muliply of list Elements : \",(res))"
   ]
  },
  {
   "cell_type": "markdown",
   "metadata": {},
   "source": [
    "3.Write a Python program to find smallest number in a list?"
   ]
  },
  {
   "cell_type": "code",
   "execution_count": 17,
   "metadata": {},
   "outputs": [
    {
     "name": "stdout",
     "output_type": "stream",
     "text": [
      "Smallest Number in the lst is :  1\n"
     ]
    }
   ],
   "source": [
    "small = lst[1]\n",
    "for e in lst:\n",
    "    if e < small:\n",
    "        small =e\n",
    "print(\"Smallest Number in the lst is : \", small)"
   ]
  },
  {
   "cell_type": "markdown",
   "metadata": {},
   "source": [
    "4.Write a Python program to find largest number in a list?"
   ]
  },
  {
   "cell_type": "code",
   "execution_count": 18,
   "metadata": {},
   "outputs": [
    {
     "name": "stdout",
     "output_type": "stream",
     "text": [
      "Largest Number in the lst is :  66\n"
     ]
    }
   ],
   "source": [
    "large = lst[1]\n",
    "for e in lst:\n",
    "    if e > large:\n",
    "        large =e\n",
    "print(\"Largest Number in the lst is : \", large)"
   ]
  },
  {
   "cell_type": "markdown",
   "metadata": {},
   "source": [
    "5.Write a Python program to find second largest number in a list?"
   ]
  },
  {
   "cell_type": "code",
   "execution_count": 19,
   "metadata": {},
   "outputs": [
    {
     "name": "stdout",
     "output_type": "stream",
     "text": [
      "Second largest number in the lst is :  33\n"
     ]
    }
   ],
   "source": [
    "large = lst[1]\n",
    "secLar = 0\n",
    "for e in lst:\n",
    "    if e > large:\n",
    "        secLar = large\n",
    "        large =e\n",
    "print(\"Second largest number in the lst is : \", secLar)"
   ]
  },
  {
   "cell_type": "markdown",
   "metadata": {},
   "source": [
    "6.Write a Python program to find N largest elements from a list?"
   ]
  },
  {
   "cell_type": "code",
   "execution_count": 26,
   "metadata": {},
   "outputs": [
    {
     "name": "stdout",
     "output_type": "stream",
     "text": [
      "Which Nth Largest Element you want to get : 5\n",
      "[1, 2, 4, 5, 6, 7, 8, 33, 66]\n",
      "5th Largest Element in the list is : 6 \n"
     ]
    }
   ],
   "source": [
    "n = int(input(\"Which Nth Largest Element you want to get : \"))\n",
    "if n < len(lst):\n",
    "    lst.sort()\n",
    "    print(lst)\n",
    "    print(\"{}th Largest Element in the list is : {} \".format(n,lst[-n]))"
   ]
  },
  {
   "cell_type": "markdown",
   "metadata": {},
   "source": [
    "7.Write a Python program to print even numbers in a list?"
   ]
  },
  {
   "cell_type": "code",
   "execution_count": 27,
   "metadata": {},
   "outputs": [
    {
     "name": "stdout",
     "output_type": "stream",
     "text": [
      "Even Number of Elements in lst : \n",
      "2\n",
      "4\n",
      "6\n",
      "8\n",
      "66\n"
     ]
    }
   ],
   "source": [
    "print(\"Even Number of Elements in lst : \")\n",
    "for e in lst:\n",
    "    if e % 2 == 0:\n",
    "        print(e)"
   ]
  },
  {
   "cell_type": "markdown",
   "metadata": {},
   "source": [
    "8.Write a Python program to print odd numbers in a List?"
   ]
  },
  {
   "cell_type": "code",
   "execution_count": 28,
   "metadata": {},
   "outputs": [
    {
     "name": "stdout",
     "output_type": "stream",
     "text": [
      "Odd Number of Elements in lst : \n",
      "1\n",
      "5\n",
      "7\n",
      "33\n"
     ]
    }
   ],
   "source": [
    "print(\"Odd Number of Elements in lst : \")\n",
    "for e in lst:\n",
    "    if e % 2 != 0:\n",
    "        print(e)"
   ]
  },
  {
   "cell_type": "markdown",
   "metadata": {},
   "source": [
    "9.Write a Python program to Remove empty List from List?"
   ]
  },
  {
   "cell_type": "code",
   "execution_count": 30,
   "metadata": {},
   "outputs": [
    {
     "name": "stdout",
     "output_type": "stream",
     "text": [
      "Lst after removing empty list :  [1, 2, 9, 8, 6, [1, 2, 3]]\n"
     ]
    }
   ],
   "source": [
    "lstOfLst =[[],1,2,[],9,8,6,[1,2,3]]\n",
    "for e in lstOfLst:\n",
    "    if type(e) == list and len(e) == 0:\n",
    "        lstOfLst.remove(e)\n",
    "print(\"Lst after removing empty list : \",lstOfLst)\n"
   ]
  },
  {
   "cell_type": "markdown",
   "metadata": {},
   "source": [
    "10.Write a Python program to Cloning or Copying a list?"
   ]
  },
  {
   "cell_type": "code",
   "execution_count": 36,
   "metadata": {},
   "outputs": [
    {
     "data": {
      "text/plain": [
       "[9, 8, 6, 0, 1, 2]"
      ]
     },
     "execution_count": 36,
     "metadata": {},
     "output_type": "execute_result"
    }
   ],
   "source": [
    "lst = [9,8,6,0,1,2]\n",
    "lst1 =[]\n",
    "lst1 = lst.copy()\n",
    "lst1\n"
   ]
  },
  {
   "cell_type": "markdown",
   "metadata": {},
   "source": [
    "11.Write a Python program to Count occurrences of an element in a list?"
   ]
  },
  {
   "cell_type": "code",
   "execution_count": 39,
   "metadata": {},
   "outputs": [
    {
     "name": "stdout",
     "output_type": "stream",
     "text": [
      "No of Times element : 1 occured --> 3\n",
      "No of Times element : 8 occured --> 3\n",
      "No of Times element : 9 occured --> 1\n",
      "No of Times element : 2 occured --> 3\n",
      "No of Times element : 3 occured --> 4\n",
      "No of Times element : 7 occured --> 2\n",
      "No of Times element : 0 occured --> 1\n",
      "No of Times element : 4 occured --> 1\n",
      "No of Times element : 5 occured --> 2\n"
     ]
    }
   ],
   "source": [
    "lst =[1,8,9,2,3,2,1,8,7,0,2,4,5,5,1,8,7,3,3,3]\n",
    "dict1 = {}\n",
    "\n",
    "for e in lst:\n",
    "    if e not in dict1:\n",
    "        dict1[e] = 1\n",
    "    else:\n",
    "        dict1[e] = dict1[e] +1\n",
    "\n",
    "for k,v in dict1.items():\n",
    "    print(\"No of Times element : {} occured --> {}\".format(k,v))\n"
   ]
  },
  {
   "cell_type": "code",
   "execution_count": null,
   "metadata": {},
   "outputs": [],
   "source": []
  }
 ],
 "metadata": {
  "kernelspec": {
   "display_name": "Python 3",
   "language": "python",
   "name": "python3"
  },
  "language_info": {
   "codemirror_mode": {
    "name": "ipython",
    "version": 3
   },
   "file_extension": ".py",
   "mimetype": "text/x-python",
   "name": "python",
   "nbconvert_exporter": "python",
   "pygments_lexer": "ipython3",
   "version": "3.8.3"
  }
 },
 "nbformat": 4,
 "nbformat_minor": 4
}
