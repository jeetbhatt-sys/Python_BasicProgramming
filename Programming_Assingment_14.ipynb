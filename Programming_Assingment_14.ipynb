{
 "cells": [
  {
   "cell_type": "markdown",
   "metadata": {},
   "source": [
    "Question 1:\n",
    "\n",
    "Define a class with a generator which can iterate the numbers, which are divisible by 7, between a given range 0 and n.\n"
   ]
  },
  {
   "cell_type": "code",
   "execution_count": 15,
   "metadata": {},
   "outputs": [
    {
     "name": "stdout",
     "output_type": "stream",
     "text": [
      "Please enter the value of n : 100\n",
      "Number divisible by 7 in range 0 and 100 : \n",
      "0\n",
      "7\n",
      "14\n",
      "21\n",
      "28\n",
      "35\n",
      "42\n",
      "49\n",
      "56\n",
      "63\n",
      "70\n",
      "77\n",
      "84\n",
      "91\n",
      "98\n"
     ]
    }
   ],
   "source": [
    "class Generator:\n",
    "    def __init__(self,n):\n",
    "        self.n = n\n",
    "    def divBy7(self):\n",
    "        for i in range(0,self.n):\n",
    "            if(i % 7 == 0):\n",
    "                yield i\n",
    "n = int(input(\"Please enter the value of n : \"))               \n",
    "g = Generator(n)\n",
    "print(\"Number divisible by 7 in range 0 and {} : \".format(n))\n",
    "for k in g.divBy7():\n",
    "    print(k)"
   ]
  },
  {
   "cell_type": "markdown",
   "metadata": {},
   "source": [
    "Question 2:\n",
    "Write a program to compute the frequency of the words from the input. The output should output after sorting the key alphanumerically. \n",
    "\n",
    "Suppose the following input is supplied to the program:\n",
    "\n",
    "New to Python or choosing between Python 2 and Python 3? Read Python 2 or Python 3.\n",
    "\n",
    "Then, the output should be:\n",
    "\n",
    "2:2\n",
    "\n",
    "3.:1\n",
    "\n",
    "3?:1\n",
    "\n",
    "New:1\n",
    "\n",
    "Python:5\n",
    "\n",
    "Read:1\n",
    "\n",
    "and:1\n",
    "\n",
    "between:1\n",
    "\n",
    "choosing:1\n",
    "\n",
    "or:2\n",
    "\n",
    "to:1\n"
   ]
  },
  {
   "cell_type": "code",
   "execution_count": 32,
   "metadata": {},
   "outputs": [
    {
     "name": "stdout",
     "output_type": "stream",
     "text": [
      "Please enter the string : New to Python or choosing between Python 2 and Python 3? Read Python 2 or Python 3.\n",
      "2 : 2\n",
      "3. : 1\n",
      "3? : 1\n",
      "New : 1\n",
      "Python : 5\n",
      "Read : 1\n",
      "and : 1\n",
      "between : 1\n",
      "choosing : 1\n",
      "or : 2\n",
      "to : 1\n"
     ]
    }
   ],
   "source": [
    "lst = input(\"Please enter the string : \").split()\n",
    "dict1 = {}\n",
    "for ele in lst:\n",
    "    if ele not in dict1:\n",
    "        dict1[ele] = 1\n",
    "    else:\n",
    "        dict1[ele] += 1\n",
    "nlst = list(dict1.keys())\n",
    "nlst.sort()\n",
    "for ele in nlst:\n",
    "    print(ele,':',dict1[ele])"
   ]
  },
  {
   "cell_type": "markdown",
   "metadata": {},
   "source": [
    "Question 3:\n",
    "\n",
    "Define a class Person and its two child classes: Male and Female. All classes have a method \"getGender\" which can print \"Male\" for Male class and \"Female\" for Female class.\n"
   ]
  },
  {
   "cell_type": "code",
   "execution_count": 47,
   "metadata": {},
   "outputs": [
    {
     "name": "stdout",
     "output_type": "stream",
     "text": [
      "Female\n",
      "Male\n"
     ]
    }
   ],
   "source": [
    "class Person(object):\n",
    "    def __init__(self):\n",
    "        self.gender = \"unknown\"\n",
    "\n",
    "    def getGender(self):\n",
    "        print(self.gender)\n",
    "\n",
    "class Male(Person):\n",
    "    def __init__(self):\n",
    "        self.gender = \"Male\"\n",
    "\n",
    "class Female(Person):\n",
    "    def __init__(self):\n",
    "        self.gender = \"Female\"\n",
    "\n",
    "f = Female()\n",
    "m = Male()\n",
    "f.getGender()\n",
    "m.getGender()"
   ]
  },
  {
   "cell_type": "markdown",
   "metadata": {},
   "source": [
    "Question 4:\n",
    "Please write a program to generate all sentences where subject is in [\"I\", \"You\"] and verb is in [\"Play\", \"Love\"] and the object is in [\"Hockey\",\"Football\"].\n"
   ]
  },
  {
   "cell_type": "code",
   "execution_count": 61,
   "metadata": {},
   "outputs": [
    {
     "name": "stdout",
     "output_type": "stream",
     "text": [
      "I Play Hockey\n",
      "I Play Football\n",
      "I Love Hockey\n",
      "I Love Football\n",
      "You Play Hockey\n",
      "You Play Football\n",
      "You Love Hockey\n",
      "You Love Football\n"
     ]
    }
   ],
   "source": [
    "subjects = [\"I\", \"You\"]\n",
    "verbs = [\"Play\", \"Love\"]\n",
    "objects = [\"Hockey\",\"Football\"]\n",
    "\n",
    "for subject in subjects:\n",
    "    for verb in verbs:\n",
    "        for object in objects:\n",
    "            print(\"{} {} {}\".format(subject,verb,object))"
   ]
  },
  {
   "cell_type": "markdown",
   "metadata": {},
   "source": [
    "Question 5:\n",
    "Please write a program to compress and decompress the string \"hello world!hello world!hello world!hello world!\".\n"
   ]
  },
  {
   "cell_type": "code",
   "execution_count": 75,
   "metadata": {},
   "outputs": [
    {
     "name": "stdout",
     "output_type": "stream",
     "text": [
      "String after compression :  hel2o world!hel2o world!hel2o world!hel2o world!\n",
      "String After decompression hello world!hello world!hello world!hello world\n"
     ]
    }
   ],
   "source": [
    "def compress(str1):\n",
    "    res = str1[0]\n",
    "    count = 1\n",
    "    for i in range(0,len(str1)-1):\n",
    "        if(str1[i] == str1[i+1]):\n",
    "            count +=1\n",
    "        else:\n",
    "            if count > 1:\n",
    "                res += str(count)\n",
    "            res += str1[i+1]\n",
    "            count = 1\n",
    "    if(count > 1):\n",
    "        res += str(count)\n",
    "    return res\n",
    "\n",
    "def deCompress(str2):\n",
    "    last = str2[0]\n",
    "    out = ''\n",
    "    for i in range(len(str2)-1):\n",
    "        if str2[i] in '0123456789':\n",
    "             out += last*(int(str2[i])-1)\n",
    "        else:\n",
    "            last = str2[i]\n",
    "            out += str2[i]\n",
    "            \n",
    "    return out\n",
    "\n",
    "str1 = \"hello world!hello world!hello world!hello world!\"\n",
    "str2 = compress(str1)\n",
    "print(\"String after compression : \", str2)\n",
    "print(\"String After decompression\", deCompress(str2))\n"
   ]
  },
  {
   "cell_type": "markdown",
   "metadata": {},
   "source": [
    "Question 6:\n",
    "Please write a binary search function which searches an item in a sorted list. The function should return the index of element to be searched in the list.\n"
   ]
  },
  {
   "cell_type": "code",
   "execution_count": 7,
   "metadata": {},
   "outputs": [
    {
     "name": "stdout",
     "output_type": "stream",
     "text": [
      "please enter a list of elements comma seperated : 1,2,8,7,6\n",
      "List is after sorting :  ['1', '2', '6', '7', '8']\n",
      "Please Enter an element to search for : 6\n",
      "6 exist in 2th index\n"
     ]
    }
   ],
   "source": [
    "def binarySearch(lst,low,high,ele):\n",
    "    if high >= low:\n",
    "        mid = (low + high) //2\n",
    "        if int(lst[mid]) == ele:\n",
    "            return mid\n",
    "        elif int(lst[mid]) > ele:\n",
    "            return binarySearch(lst, low, mid - 1, ele)\n",
    "        else:\n",
    "            return binarySearch(lst, mid + 1, high, ele)\n",
    "    else:\n",
    "        return -1\n",
    "\n",
    "\n",
    "lst = list(input(\"please enter a list of elements comma seperated : \").split(','))\n",
    "lst.sort()\n",
    "print(\"List is after sorting : \", lst)\n",
    "ele = int(input(\"Please Enter an element to search for : \"))\n",
    "index = binarySearch(lst,0,len(lst)-1,ele)\n",
    "print(\"{} exist in {}th index\".format(ele,index))"
   ]
  },
  {
   "cell_type": "code",
   "execution_count": null,
   "metadata": {},
   "outputs": [],
   "source": []
  },
  {
   "cell_type": "code",
   "execution_count": null,
   "metadata": {},
   "outputs": [],
   "source": []
  }
 ],
 "metadata": {
  "kernelspec": {
   "display_name": "Python 3",
   "language": "python",
   "name": "python3"
  },
  "language_info": {
   "codemirror_mode": {
    "name": "ipython",
    "version": 3
   },
   "file_extension": ".py",
   "mimetype": "text/x-python",
   "name": "python",
   "nbconvert_exporter": "python",
   "pygments_lexer": "ipython3",
   "version": "3.8.3"
  }
 },
 "nbformat": 4,
 "nbformat_minor": 4
}
