{
 "cells": [
  {
   "cell_type": "markdown",
   "metadata": {},
   "source": [
    "Question1. Create a function that takes three arguments a, b, c and returns the sum of the numbers that are evenly divided by c from the range a, b inclusive.\n",
    "Examples\n",
    "evenly_divisible(1, 10, 20) ➞ 0\n",
    " No number between 1 and 10 can be evenly divided by 20.\n",
    "\n",
    "evenly_divisible(1, 10, 2) ➞ 30\n",
    " 2 + 4 + 6 + 8 + 10 = 30\n",
    "\n",
    "evenly_divisible(1, 10, 3) ➞ 18\n",
    " 3 + 6 + 9 = 18\n"
   ]
  },
  {
   "cell_type": "code",
   "execution_count": 5,
   "metadata": {},
   "outputs": [
    {
     "name": "stdout",
     "output_type": "stream",
     "text": [
      "Please enter the value of a,b,c comma seperated : 1,10,3\n",
      "evenly_divisible(1, 10, 3) ==> 18\n"
     ]
    }
   ],
   "source": [
    "def evenly_divisible(a,b,c):\n",
    "    s = 0\n",
    "    for i in range(a, b+1):\n",
    "        if i % c == 0:\n",
    "            s += i\n",
    "    return s\n",
    "\n",
    "a,b,c = input(\"Please enter the value of a,b,c comma seperated : \").split(',')\n",
    "print(\"evenly_divisible({}, {}, {}) ==> {}\".format(a,b,c,evenly_divisible(int(a),int(b),int(c))))        "
   ]
  },
  {
   "cell_type": "markdown",
   "metadata": {},
   "source": [
    "Question2. Create a function that returns True if a given inequality expression is correct and False otherwise.\n",
    "Examples\n",
    "correct_signs(\"3 < 7 < 11\") ➞ True\n",
    "\n",
    "correct_signs(\"13 > 44 > 33 > 1\") ➞ False\n",
    "\n",
    "correct_signs(\"1 < 2 < 6 < 9 > 3\") ➞ True\n",
    "\n"
   ]
  },
  {
   "cell_type": "code",
   "execution_count": 25,
   "metadata": {},
   "outputs": [
    {
     "name": "stdout",
     "output_type": "stream",
     "text": [
      "Please enter a expression : 13 > 44 > 33 > 1\n",
      "Answer :  False\n"
     ]
    }
   ],
   "source": [
    "def correct_signs(exp):\n",
    "    if eval(exp) == True:\n",
    "        return True\n",
    "    else:\n",
    "        return False\n",
    "\n",
    "exp = input(\"Please enter a expression : \")\n",
    "print(\"Answer : \",correct_signs(exp))"
   ]
  },
  {
   "cell_type": "markdown",
   "metadata": {},
   "source": [
    "Question3. Create a function that replaces all the vowels in a string with a specified character.\n",
    "Examples\n",
    "replace_vowels(\"the aardvark\", \"#\") ➞ \"th# ##rdv#rk\"\n",
    "\n",
    "replace_vowels(\"minnie mouse\", \"?\") ➞ \"m?nn?? m??s?\"\n",
    "\n",
    "replace_vowels(\"shakespeare\", \"*\") ➞ \"sh*k*sp**r*\"\n",
    "\n"
   ]
  },
  {
   "cell_type": "code",
   "execution_count": 28,
   "metadata": {},
   "outputs": [
    {
     "name": "stdout",
     "output_type": "stream",
     "text": [
      "Please enter a string : the aardvark\n",
      "Please enter a replacement character for vowels : #\n",
      "String after replacement of vowels :  th# ##rdv#rk\n"
     ]
    }
   ],
   "source": [
    "def replace_vowels(str1,r):\n",
    "    vowel = 'aeiouAEIOU'\n",
    "    for c in str1:\n",
    "        if c in vowel:\n",
    "            str1 = str1.replace(c,r)\n",
    "    return str1\n",
    "\n",
    "str1 = input(\"Please enter a string : \")\n",
    "rep = input(\"Please enter a replacement character for vowels : \")\n",
    "print(\"String after replacement of vowels : \",replace_vowels(str1,rep))\n"
   ]
  },
  {
   "cell_type": "markdown",
   "metadata": {},
   "source": [
    "Question4. Write a function that calculates the factorial of a number recursively.\n",
    "Examples\n",
    "factorial(5) ➞ 120\n",
    "\n",
    "factorial(3) ➞ 6\n",
    "\n",
    "factorial(1) ➞ 1\n",
    "\n",
    "factorial(0) ➞ 1\n"
   ]
  },
  {
   "cell_type": "code",
   "execution_count": 33,
   "metadata": {},
   "outputs": [
    {
     "name": "stdout",
     "output_type": "stream",
     "text": [
      "Please enter a number you want to find out the factorial of : 10\n",
      "Factorial of 10 is : 3628800\n"
     ]
    }
   ],
   "source": [
    "def factorial(n):\n",
    "    if n == 1:\n",
    "        return n\n",
    "    else:\n",
    "        return n*factorial(n-1)\n",
    "n = int(input(\"Please enter a number you want to find out the factorial of : \"))\n",
    "print(\"Factorial of {} is : {}\".format(n,factorial(n)))"
   ]
  },
  {
   "cell_type": "markdown",
   "metadata": {},
   "source": [
    "Question 5\n",
    "Hamming distance is the number of characters that differ between two strings.\n",
    "To illustrate:\n",
    "String1: \"abcbba\"\n",
    "String2: \"abcbda\"\n",
    "\n",
    "Hamming Distance: 1 - \"b\" vs. \"d\" is the only difference.\n",
    "Create a function that computes the hamming distance between two strings.\n",
    "Examples\n",
    "hamming_distance(\"abcde\", \"bcdef\") ➞ 5\n",
    "\n",
    "hamming_distance(\"abcde\", \"abcde\") ➞ 0\n",
    "\n",
    "hamming_distance(\"strong\", \"strung\") ➞ 1\n"
   ]
  },
  {
   "cell_type": "code",
   "execution_count": 37,
   "metadata": {},
   "outputs": [
    {
     "name": "stdout",
     "output_type": "stream",
     "text": [
      "Please enter two strings comma seperated : abcde,bcdef\n",
      "hamming_distance(''abcde', 'bcdef') --> 5\n"
     ]
    }
   ],
   "source": [
    "def hamming_distance(str1,str2):\n",
    "    hDist = 0\n",
    "    for i in range(0,len(str1)):\n",
    "        if str1[i] != str2[i]:\n",
    "            hDist +=1\n",
    "    return hDist\n",
    "\n",
    "\n",
    "str1,str2 = input(\"Please enter two strings comma seperated : \").split(',')\n",
    "print(\"hamming_distance(''{}', '{}') --> {}\".format(str1,str2,hamming_distance(str1,str2)))\n",
    "        \n",
    "            "
   ]
  },
  {
   "cell_type": "code",
   "execution_count": null,
   "metadata": {},
   "outputs": [],
   "source": []
  }
 ],
 "metadata": {
  "kernelspec": {
   "display_name": "Python 3",
   "language": "python",
   "name": "python3"
  },
  "language_info": {
   "codemirror_mode": {
    "name": "ipython",
    "version": 3
   },
   "file_extension": ".py",
   "mimetype": "text/x-python",
   "name": "python",
   "nbconvert_exporter": "python",
   "pygments_lexer": "ipython3",
   "version": "3.8.3"
  }
 },
 "nbformat": 4,
 "nbformat_minor": 4
}
